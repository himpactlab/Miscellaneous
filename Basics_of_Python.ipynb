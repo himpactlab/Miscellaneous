{
  "cells": [
    {
      "cell_type": "markdown",
      "metadata": {
        "id": "view-in-github",
        "colab_type": "text"
      },
      "source": [
        "<a href=\"https://colab.research.google.com/github/himpactlab/Miscellaneous/blob/main/Basics_of_Python.ipynb\" target=\"_parent\"><img src=\"https://colab.research.google.com/assets/colab-badge.svg\" alt=\"Open In Colab\"/></a>"
      ]
    },
    {
      "cell_type": "markdown",
      "metadata": {
        "id": "lcX8AaraT-k5"
      },
      "source": [
        "# Python Fundamentals: Data Structures, Control Flow & Functions\n",
        "\n",
        "This notebook covers the essential building blocks of Python programming:\n",
        "- **Basic Data Structures**: Lists, Dictionaries, Tuples, and Sets\n",
        "- **If Statements**: Decision making in code\n",
        "- **For Loops**: Iteration and repetition\n",
        "- **Functions**: Creating reusable code blocks\n",
        "\n",
        "Each section includes detailed explanations and practical examples."
      ]
    },
    {
      "cell_type": "code",
      "source": [
        "# Examples of Basic Python Data Types\n",
        "\n",
        "# 1. String (str) - ordered, immutable sequence of characters\n",
        "my_string = \"Hello, Python!\"\n",
        "print(f\"String: {my_string}, Type: {type(my_string)}\")\n",
        "\n",
        "# 2. Integer (int) - whole numbers (positive, negative, or zero)\n",
        "my_integer = 123\n",
        "print(f\"Integer: {my_integer}, Type: {type(my_integer)}\")\n",
        "\n",
        "# 3. Float (float) - numbers with a decimal point\n",
        "my_float = 3.14159\n",
        "print(f\"Float: {my_float}, Type: {type(my_float)}\")\n",
        "\n",
        "# 4. Boolean (bool) - represents truth values (True or False)\n",
        "my_boolean_true = True\n",
        "my_boolean_false = False\n",
        "print(f\"Boolean True: {my_boolean_true}, Type: {type(my_boolean_true)}\")\n",
        "print(f\"Boolean False: {my_boolean_false}, Type: {type(my_boolean_false)}\")"
      ],
      "metadata": {
        "colab": {
          "base_uri": "https://localhost:8080/"
        },
        "id": "lN4BBvnDURqJ",
        "outputId": "9f97902b-cbe0-4064-a40a-c5956a36cda1"
      },
      "execution_count": 2,
      "outputs": [
        {
          "output_type": "stream",
          "name": "stdout",
          "text": [
            "String: Hello, Python!, Type: <class 'str'>\n",
            "Integer: 123, Type: <class 'int'>\n",
            "Float: 3.14159, Type: <class 'float'>\n",
            "Boolean True: True, Type: <class 'bool'>\n",
            "Boolean False: False, Type: <class 'bool'>\n"
          ]
        }
      ]
    },
    {
      "cell_type": "markdown",
      "metadata": {
        "id": "GfSlKtO0T-k7"
      },
      "source": [
        "## 1. Basic Data Structures\n",
        "\n",
        "Data structures are ways to organize and store data in Python. Let's explore the four main types:"
      ]
    },
    {
      "cell_type": "markdown",
      "metadata": {
        "id": "_UkHlm6rT-k8"
      },
      "source": [
        "### 1.1 Lists\n",
        "\n",
        "**What is a List?**\n",
        "- A list is an ordered collection of items\n",
        "- Items can be of different data types\n",
        "- Lists are **mutable** (can be changed after creation)\n",
        "- Lists are defined using square brackets `[]`\n",
        "- Items are separated by commas"
      ]
    },
    {
      "cell_type": "code",
      "execution_count": 7,
      "metadata": {
        "colab": {
          "base_uri": "https://localhost:8080/"
        },
        "id": "MlWfgHm7T-k8",
        "outputId": "e5d93637-761e-46a0-abfe-ce31363b2c06"
      },
      "outputs": [
        {
          "output_type": "stream",
          "name": "stdout",
          "text": [
            "Fruits: ['apple', 'banana', 'orange', 'grape']\n",
            "Numbers: [1, 2, 3, 4, 5]\n",
            "Mixed list: ['hello', 42, 3.14, True]\n"
          ]
        }
      ],
      "source": [
        "# Creating lists\n",
        "fruits = [\"apple\", \"banana\", \"orange\", \"grape\"]\n",
        "numbers = [1, 2, 3, 4, 5]\n",
        "mixed_list = [\"hello\", 42, 3.14, True]\n",
        "\n",
        "print(\"Fruits:\", fruits)\n",
        "print(\"Numbers:\", numbers)\n",
        "print(\"Mixed list:\", mixed_list)\n"
      ]
    },
    {
      "cell_type": "code",
      "source": [
        "\n",
        "# Accessing elements (indexing starts at 0)\n",
        "print(\"\\nFirst fruit:\", fruits[0])\n",
        "print(\"Last fruit:\", fruits[-1])  # Negative indexing\n",
        "\n",
        "# Modifying lists\n",
        "fruits.append(\"mango\")  # Add to end\n",
        "fruits.insert(1, \"kiwi\")  # Insert at specific position\n",
        "print(\"\\nAfter modifications:\", fruits)\n",
        "\n",
        "# List length\n",
        "print(\"Number of fruits:\", len(fruits))"
      ],
      "metadata": {
        "colab": {
          "base_uri": "https://localhost:8080/"
        },
        "id": "JUIBTcSLbC0g",
        "outputId": "98a9ee2e-2691-46b1-f18d-4c0e0392a8a2"
      },
      "execution_count": 9,
      "outputs": [
        {
          "output_type": "stream",
          "name": "stdout",
          "text": [
            "\n",
            "First fruit: apple\n",
            "Last fruit: grape\n",
            "\n",
            "After modifications: ['apple', 'kiwi', 'banana', 'orange', 'grape', 'mango']\n",
            "Number of fruits: 6\n"
          ]
        }
      ]
    },
    {
      "cell_type": "markdown",
      "metadata": {
        "id": "YwjwGezRT-k9"
      },
      "source": [
        "### 1.2 Dictionaries\n",
        "\n",
        "**What is a Dictionary?**\n",
        "- A dictionary stores data in **key-value pairs**\n",
        "- Keys must be unique and immutable (strings, numbers, tuples)\n",
        "- Values can be any data type\n",
        "- Dictionaries are **mutable**\n",
        "- Defined using curly braces `{}`\n",
        "- Very fast for lookups by key"
      ]
    },
    {
      "cell_type": "code",
      "source": [
        "# Creating dictionaries\n",
        "student = {\n",
        "    \"name\": \"Alice\",\n",
        "    \"age\": 20,\n",
        "    \"grade\": \"A\",\n",
        "    \"subjects\": [\"Math\", \"Physics\", \"Chemistry\"]\n",
        "}\n",
        "\n",
        "print(\"Student information:\", student)"
      ],
      "metadata": {
        "colab": {
          "base_uri": "https://localhost:8080/"
        },
        "id": "CbKfAJ10c3cn",
        "outputId": "e4f8298e-0267-4b07-e5de-c3027d6f2c4a"
      },
      "execution_count": 14,
      "outputs": [
        {
          "output_type": "stream",
          "name": "stdout",
          "text": [
            "Student information: {'name': 'Alice', 'age': 20, 'grade': 'A', 'subjects': ['Math', 'Physics', 'Chemistry']}\n"
          ]
        }
      ]
    },
    {
      "cell_type": "code",
      "source": [
        "# Accessing values\n",
        "print(\"Student name:\", student[\"name\"])\n",
        "print(\"Student age:\", student[\"age\"])"
      ],
      "metadata": {
        "colab": {
          "base_uri": "https://localhost:8080/"
        },
        "id": "ssaM7ayNc5e_",
        "outputId": "78da0771-2c64-4842-cf08-ccb49ddde24a"
      },
      "execution_count": 16,
      "outputs": [
        {
          "output_type": "stream",
          "name": "stdout",
          "text": [
            "Student name: Alice\n",
            "Student age: 20\n"
          ]
        }
      ]
    },
    {
      "cell_type": "code",
      "source": [
        "# Adding/modifying values\n",
        "student[\"email\"] = \"alice@example.com\"  # Add new key-value\n",
        "student[\"age\"] = 21  # Modify existing value"
      ],
      "metadata": {
        "id": "B-eJ4KxvdDUF"
      },
      "execution_count": 17,
      "outputs": []
    },
    {
      "cell_type": "code",
      "source": [
        "print(\"\\nUpdated student:\", student)"
      ],
      "metadata": {
        "colab": {
          "base_uri": "https://localhost:8080/"
        },
        "id": "tH3iIWQ6dJWX",
        "outputId": "da4e6e9b-9a40-4aed-e8df-9024624bbe10"
      },
      "execution_count": 18,
      "outputs": [
        {
          "output_type": "stream",
          "name": "stdout",
          "text": [
            "\n",
            "Updated student: {'name': 'Alice', 'age': 21, 'grade': 'A', 'subjects': ['Math', 'Physics', 'Chemistry'], 'email': 'alice@example.com'}\n"
          ]
        }
      ]
    },
    {
      "cell_type": "code",
      "source": [
        "# Dictionary methods\n",
        "print(\"\\nAll keys:\", list(student.keys()))"
      ],
      "metadata": {
        "colab": {
          "base_uri": "https://localhost:8080/"
        },
        "id": "Hxy14ri0dNor",
        "outputId": "75bd6b33-6e10-4bff-8bec-9c31d9ff4d86"
      },
      "execution_count": 19,
      "outputs": [
        {
          "output_type": "stream",
          "name": "stdout",
          "text": [
            "\n",
            "All keys: ['name', 'age', 'grade', 'subjects', 'email']\n"
          ]
        }
      ]
    },
    {
      "cell_type": "code",
      "source": [
        "print(\"All values:\", list(student.values()))"
      ],
      "metadata": {
        "colab": {
          "base_uri": "https://localhost:8080/"
        },
        "id": "J_1tk9-6dP5L",
        "outputId": "615160c8-486b-4b7a-b3c7-11ccf2bbc34c"
      },
      "execution_count": 20,
      "outputs": [
        {
          "output_type": "stream",
          "name": "stdout",
          "text": [
            "All values: ['Alice', 21, 'A', ['Math', 'Physics', 'Chemistry'], 'alice@example.com']\n"
          ]
        }
      ]
    },
    {
      "cell_type": "code",
      "execution_count": 21,
      "metadata": {
        "colab": {
          "base_uri": "https://localhost:8080/"
        },
        "id": "UiidS9JGT-k9",
        "outputId": "ae298c53-fe74-4fb9-b119-0a49246259fd"
      },
      "outputs": [
        {
          "output_type": "stream",
          "name": "stdout",
          "text": [
            "Key-value pairs: [('name', 'Alice'), ('age', 21), ('grade', 'A'), ('subjects', ['Math', 'Physics', 'Chemistry']), ('email', 'alice@example.com')]\n"
          ]
        }
      ],
      "source": [
        "print(\"Key-value pairs:\", list(student.items()))"
      ]
    },
    {
      "cell_type": "markdown",
      "metadata": {
        "id": "ZYNFA2lcT-k9"
      },
      "source": [
        "### 1.3 Tuples\n",
        "\n",
        "**What is a Tuple?**\n",
        "- A tuple is an ordered collection of items\n",
        "- Tuples are **immutable** (cannot be changed after creation)\n",
        "- Defined using parentheses `()` or just commas\n",
        "- Useful for storing related data that shouldn't change\n",
        "- Can be used as dictionary keys (unlike lists)"
      ]
    },
    {
      "cell_type": "code",
      "source": [
        "# Creating tuples\n",
        "coordinates = (10, 20)\n",
        "rgb_color = (255, 128, 0)\n",
        "person = (\"John\", \"Doe\", 25, \"Engineer\")"
      ],
      "metadata": {
        "id": "iq_ISyr4dcyS"
      },
      "execution_count": 22,
      "outputs": []
    },
    {
      "cell_type": "code",
      "source": [
        "\n",
        "print(\"Coordinates:\", coordinates)\n",
        "print(\"RGB Color:\", rgb_color)\n",
        "print(\"Person:\", person)"
      ],
      "metadata": {
        "colab": {
          "base_uri": "https://localhost:8080/"
        },
        "id": "u26s7i21deR4",
        "outputId": "ffcd5453-944d-417e-feec-27fc308b91d6"
      },
      "execution_count": 23,
      "outputs": [
        {
          "output_type": "stream",
          "name": "stdout",
          "text": [
            "Coordinates: (10, 20)\n",
            "RGB Color: (255, 128, 0)\n",
            "Person: ('John', 'Doe', 25, 'Engineer')\n"
          ]
        }
      ]
    },
    {
      "cell_type": "code",
      "source": [
        "# Accessing elements\n",
        "print(\"\\nX coordinate:\", coordinates[0])\n",
        "print(\"Y coordinate:\", coordinates[1])"
      ],
      "metadata": {
        "colab": {
          "base_uri": "https://localhost:8080/"
        },
        "id": "Q7zkhY9-dhSN",
        "outputId": "16259906-0add-4b21-cebc-4618c38737ce"
      },
      "execution_count": 24,
      "outputs": [
        {
          "output_type": "stream",
          "name": "stdout",
          "text": [
            "\n",
            "X coordinate: 10\n",
            "Y coordinate: 20\n"
          ]
        }
      ]
    },
    {
      "cell_type": "code",
      "source": [
        "# Tuple unpacking\n",
        "x, y = coordinates\n",
        "print(f\"\\nUnpacked - X: {x}, Y: {y}\")"
      ],
      "metadata": {
        "colab": {
          "base_uri": "https://localhost:8080/"
        },
        "id": "FdiBMlB9dlAl",
        "outputId": "f2805ba0-39be-42d1-8460-aacfc675b5b7"
      },
      "execution_count": 25,
      "outputs": [
        {
          "output_type": "stream",
          "name": "stdout",
          "text": [
            "\n",
            "Unpacked - X: 10, Y: 20\n"
          ]
        }
      ]
    },
    {
      "cell_type": "code",
      "source": [
        "first_name, last_name, age, job = person\n",
        "print(f\"Name: {first_name} {last_name}, Age: {age}, Job: {job}\")"
      ],
      "metadata": {
        "colab": {
          "base_uri": "https://localhost:8080/"
        },
        "id": "6HluN0F0doe8",
        "outputId": "261365b3-47e9-4148-c6bd-786b422c9be1"
      },
      "execution_count": 26,
      "outputs": [
        {
          "output_type": "stream",
          "name": "stdout",
          "text": [
            "Name: John Doe, Age: 25, Job: Engineer\n"
          ]
        }
      ]
    },
    {
      "cell_type": "code",
      "source": [
        "# Tuples are immutable - this would cause an error:\n",
        "coordinates[0] = 15  # TypeError!"
      ],
      "metadata": {
        "colab": {
          "base_uri": "https://localhost:8080/",
          "height": 159
        },
        "id": "TPJW_D5TdqKt",
        "outputId": "0744052d-867b-4d47-b7b3-e878e15a9af6"
      },
      "execution_count": 27,
      "outputs": [
        {
          "output_type": "error",
          "ename": "TypeError",
          "evalue": "'tuple' object does not support item assignment",
          "traceback": [
            "\u001b[0;31m---------------------------------------------------------------------------\u001b[0m",
            "\u001b[0;31mTypeError\u001b[0m                                 Traceback (most recent call last)",
            "\u001b[0;32m/tmp/ipython-input-3293859399.py\u001b[0m in \u001b[0;36m<cell line: 0>\u001b[0;34m()\u001b[0m\n\u001b[1;32m      1\u001b[0m \u001b[0;31m# Tuples are immutable - this would cause an error:\u001b[0m\u001b[0;34m\u001b[0m\u001b[0;34m\u001b[0m\u001b[0m\n\u001b[0;32m----> 2\u001b[0;31m \u001b[0mcoordinates\u001b[0m\u001b[0;34m[\u001b[0m\u001b[0;36m0\u001b[0m\u001b[0;34m]\u001b[0m \u001b[0;34m=\u001b[0m \u001b[0;36m15\u001b[0m  \u001b[0;31m# TypeError!\u001b[0m\u001b[0;34m\u001b[0m\u001b[0;34m\u001b[0m\u001b[0m\n\u001b[0m",
            "\u001b[0;31mTypeError\u001b[0m: 'tuple' object does not support item assignment"
          ]
        }
      ]
    },
    {
      "cell_type": "markdown",
      "metadata": {
        "id": "Lf8bcGP5T-k-"
      },
      "source": [
        "### 1.4 Sets\n",
        "\n",
        "**What is a Set?**\n",
        "- A set is an unordered collection of **unique** items\n",
        "- No duplicate values allowed\n",
        "- Sets are **mutable**\n",
        "- Defined using curly braces `{}` or `set()` function\n",
        "- Great for removing duplicates and set operations (union, intersection)"
      ]
    },
    {
      "cell_type": "code",
      "source": [
        "# Creating sets\n",
        "unique_numbers = {1, 2, 3, 4, 5}\n",
        "colors = {\"red\", \"green\", \"blue\", \"red\"}  # Duplicate \"red\" will be removed"
      ],
      "metadata": {
        "id": "OK8toNfgdyrX"
      },
      "execution_count": 28,
      "outputs": []
    },
    {
      "cell_type": "code",
      "source": [
        "\n",
        "print(\"Unique numbers:\", unique_numbers)\n",
        "print(\"Colors (duplicates removed):\", colors)"
      ],
      "metadata": {
        "colab": {
          "base_uri": "https://localhost:8080/"
        },
        "id": "3RKSLumZd0sL",
        "outputId": "78e9d94f-fb1b-400a-dccc-fd9837ff56f6"
      },
      "execution_count": 29,
      "outputs": [
        {
          "output_type": "stream",
          "name": "stdout",
          "text": [
            "Unique numbers: {1, 2, 3, 4, 5}\n",
            "Colors (duplicates removed): {'blue', 'red', 'green'}\n"
          ]
        }
      ]
    },
    {
      "cell_type": "code",
      "source": [
        "# Creating set from list (removes duplicates)\n",
        "numbers_list = [1, 2, 2, 3, 3, 3, 4, 5]\n",
        "unique_from_list = set(numbers_list)\n",
        "print(\"\\nOriginal list:\", numbers_list)\n",
        "print(\"Unique from list:\", unique_from_list)\n"
      ],
      "metadata": {
        "colab": {
          "base_uri": "https://localhost:8080/"
        },
        "id": "pEVRKxMkd4WT",
        "outputId": "46416e3f-322d-4987-dd41-530513abf031"
      },
      "execution_count": 30,
      "outputs": [
        {
          "output_type": "stream",
          "name": "stdout",
          "text": [
            "\n",
            "Original list: [1, 2, 2, 3, 3, 3, 4, 5]\n",
            "Unique from list: {1, 2, 3, 4, 5}\n"
          ]
        }
      ]
    },
    {
      "cell_type": "code",
      "source": [
        "# Set operations\n",
        "set1 = {1, 2, 3, 4}\n",
        "set2 = {3, 4, 5, 6}\n"
      ],
      "metadata": {
        "id": "HE8PIQzfd78z"
      },
      "execution_count": 31,
      "outputs": []
    },
    {
      "cell_type": "code",
      "source": [
        "print(\"\\nSet 1:\", set1)\n",
        "print(\"Set 2:\", set2)\n",
        "print(\"Union (all elements):\", set1 | set2)\n",
        "print(\"Intersection (common elements):\", set1 & set2)\n",
        "print(\"Difference (in set1 but not set2):\", set1 - set2)"
      ],
      "metadata": {
        "colab": {
          "base_uri": "https://localhost:8080/"
        },
        "id": "Gr4DGlNGd9xB",
        "outputId": "234dcf21-4955-4302-b582-92638b0d406d"
      },
      "execution_count": 32,
      "outputs": [
        {
          "output_type": "stream",
          "name": "stdout",
          "text": [
            "\n",
            "Set 1: {1, 2, 3, 4}\n",
            "Set 2: {3, 4, 5, 6}\n",
            "Union (all elements): {1, 2, 3, 4, 5, 6}\n",
            "Intersection (common elements): {3, 4}\n",
            "Difference (in set1 but not set2): {1, 2}\n"
          ]
        }
      ]
    },
    {
      "cell_type": "code",
      "execution_count": 33,
      "metadata": {
        "colab": {
          "base_uri": "https://localhost:8080/"
        },
        "id": "yvvxjjKMT-k-",
        "outputId": "9ec4a34d-01ab-4a80-c6fb-42c6b7470968"
      },
      "outputs": [
        {
          "output_type": "stream",
          "name": "stdout",
          "text": [
            "\n",
            "Modified colors: {'yellow', 'blue', 'green'}\n"
          ]
        }
      ],
      "source": [
        "# Adding/removing elements\n",
        "colors.add(\"yellow\")\n",
        "colors.remove(\"red\")\n",
        "print(\"\\nModified colors:\", colors)"
      ]
    },
    {
      "cell_type": "markdown",
      "metadata": {
        "id": "p0ibYCXVT-k_"
      },
      "source": [
        "## 2. If Statements - Decision Making\n",
        "\n",
        "**What are If Statements?**\n",
        "- If statements allow your program to make decisions\n",
        "- They execute different code based on conditions\n",
        "- Conditions evaluate to `True` or `False` (boolean values)\n",
        "- Python uses **indentation** to define code blocks"
      ]
    },
    {
      "cell_type": "markdown",
      "metadata": {
        "id": "1jfvjxz5T-k_"
      },
      "source": [
        "### 2.1 Basic If Statement Structure\n",
        "\n",
        "```python\n",
        "if condition:\n",
        "    # Code to execute if condition is True\n",
        "    pass\n",
        "elif another_condition:  # Optional\n",
        "    # Code to execute if another_condition is True\n",
        "    pass\n",
        "else:  # Optional\n",
        "    # Code to execute if all conditions are False\n",
        "    pass\n",
        "```"
      ]
    },
    {
      "cell_type": "code",
      "source": [
        "# Simple if statement\n",
        "age = int(input('Enter your Age : '))\n",
        "\n",
        "if age >= 18:\n",
        "    print(\"You are an adult!\")\n",
        "\n",
        "\n"
      ],
      "metadata": {
        "colab": {
          "base_uri": "https://localhost:8080/"
        },
        "id": "3WE64_a6emZV",
        "outputId": "13814dc6-1ed5-40df-d5f3-0157d022b6e8"
      },
      "execution_count": 34,
      "outputs": [
        {
          "output_type": "stream",
          "name": "stdout",
          "text": [
            "Enter your Age : 27\n",
            "You are an adult!\n",
            "This line always executes\n"
          ]
        }
      ]
    },
    {
      "cell_type": "code",
      "source": [
        "# If-else statement\n",
        "temperature = float(input('Enter the temperature : '))\n",
        "\n",
        "if temperature > 30:\n",
        "    print(\"It's hot outside!\")\n",
        "else:\n",
        "    print(\"It's not too hot.\")"
      ],
      "metadata": {
        "colab": {
          "base_uri": "https://localhost:8080/"
        },
        "id": "WxiSqHNqesUN",
        "outputId": "66b703a0-16c9-4716-9ddb-ddcb76f610e7"
      },
      "execution_count": 35,
      "outputs": [
        {
          "output_type": "stream",
          "name": "stdout",
          "text": [
            "Enter the temperature : 27.5\n",
            "It's not too hot.\n"
          ]
        }
      ]
    },
    {
      "cell_type": "code",
      "source": [
        "# If-elif-else statement\n",
        "score = float(input('Enter your score : '))\n",
        "\n",
        "if score >= 90:\n",
        "    grade = \"A\"\n",
        "elif score >= 80:\n",
        "    grade = \"B\"\n",
        "elif score >= 70:\n",
        "    grade = \"C\"\n",
        "elif score >= 60:\n",
        "    grade = \"D\"\n",
        "else:\n",
        "    grade = \"F\"\n",
        "print(f\"Score: {score}, Grade: {grade}\")"
      ],
      "metadata": {
        "colab": {
          "base_uri": "https://localhost:8080/"
        },
        "id": "9RNjGEeNe1hz",
        "outputId": "7f5f3d69-a4ba-4d09-8f12-7d8d9a602587"
      },
      "execution_count": 37,
      "outputs": [
        {
          "output_type": "stream",
          "name": "stdout",
          "text": [
            "Enter your score : 80\n",
            "Score: 80.0, Grade: B\n"
          ]
        }
      ]
    },
    {
      "cell_type": "markdown",
      "metadata": {
        "id": "nObDKA3tT-k_"
      },
      "source": [
        "### 2.2 Comparison Operators\n",
        "\n",
        "| Operator | Description | Example |\n",
        "|----------|-------------|----------|\n",
        "| `==` | Equal to | `x == 5` |\n",
        "| `!=` | Not equal to | `x != 5` |\n",
        "| `>` | Greater than | `x > 5` |\n",
        "| `<` | Less than | `x < 5` |\n",
        "| `>=` | Greater than or equal | `x >= 5` |\n",
        "| `<=` | Less than or equal | `x <= 5` |"
      ]
    },
    {
      "cell_type": "code",
      "source": [
        "# Comparison operators examples\n",
        "x = 10\n",
        "y = 5\n",
        "\n",
        "print(f\"x = {x}, y = {y}\")\n",
        "print(f\"x == y: {x == y}\")\n",
        "print(f\"x != y: {x != y}\")\n",
        "print(f\"x > y: {x > y}\")\n",
        "print(f\"x < y: {x < y}\")\n",
        "print(f\"x >= y: {x >= y}\")\n",
        "print(f\"x <= y: {x <= y}\")"
      ],
      "metadata": {
        "colab": {
          "base_uri": "https://localhost:8080/"
        },
        "id": "7fLFj7yifJUt",
        "outputId": "806e544f-b5e5-4d33-d8b0-00b4590ccbb7"
      },
      "execution_count": 38,
      "outputs": [
        {
          "output_type": "stream",
          "name": "stdout",
          "text": [
            "x = 10, y = 5\n",
            "x == y: False\n",
            "x != y: True\n",
            "x > y: True\n",
            "x < y: False\n",
            "x >= y: True\n",
            "x <= y: False\n"
          ]
        }
      ]
    },
    {
      "cell_type": "code",
      "source": [
        "\n",
        "# String comparisons\n",
        "name = \"Alice\"\n",
        "if name == \"Alice\":\n",
        "    print(\"\\nHello, Alice!\")\n"
      ],
      "metadata": {
        "colab": {
          "base_uri": "https://localhost:8080/"
        },
        "id": "m3FIG5GMfMvZ",
        "outputId": "e2f4c585-e8c1-45fb-8529-88a6455f4e76"
      },
      "execution_count": 39,
      "outputs": [
        {
          "output_type": "stream",
          "name": "stdout",
          "text": [
            "\n",
            "Hello, Alice!\n"
          ]
        }
      ]
    },
    {
      "cell_type": "code",
      "source": [
        "# Checking if value is in a list\n",
        "fruits = [\"apple\", \"banana\", \"orange\"]\n",
        "if \"banana\" in fruits:\n",
        "    print(\"We have bananas!\")"
      ],
      "metadata": {
        "colab": {
          "base_uri": "https://localhost:8080/"
        },
        "id": "vkWqCWKlfOjU",
        "outputId": "45ebca53-ddd9-4fe3-e254-7a527613731b"
      },
      "execution_count": 40,
      "outputs": [
        {
          "output_type": "stream",
          "name": "stdout",
          "text": [
            "We have bananas!\n"
          ]
        }
      ]
    },
    {
      "cell_type": "markdown",
      "metadata": {
        "id": "fg9I4MRRT-k_"
      },
      "source": [
        "### 2.3 Logical Operators\n",
        "\n",
        "| Operator | Description | Example |\n",
        "|----------|-------------|----------|\n",
        "| `and` | Both conditions must be True | `x > 5 and y < 10` |\n",
        "| `or` | At least one condition must be True | `x > 5 or y < 10` |\n",
        "| `not` | Reverses the boolean value | `not x > 5` |"
      ]
    },
    {
      "cell_type": "code",
      "source": [
        "# Logical operators examples\n",
        "age = 25\n",
        "has_license = True\n",
        "\n",
        "# AND operator\n",
        "if age >= 18 and has_license:\n",
        "    print(\"You can drive!\")\n"
      ],
      "metadata": {
        "colab": {
          "base_uri": "https://localhost:8080/"
        },
        "id": "DZr-JVJTfc85",
        "outputId": "60db29b7-67c3-4330-fa3a-ea86ccec51b6"
      },
      "execution_count": 41,
      "outputs": [
        {
          "output_type": "stream",
          "name": "stdout",
          "text": [
            "You can drive!\n"
          ]
        }
      ]
    },
    {
      "cell_type": "code",
      "source": [
        "# OR operator\n",
        "weather = \"sunny\"\n",
        "if weather == \"sunny\" or weather == \"cloudy\":\n",
        "    print(\"Good day for a walk!\")\n"
      ],
      "metadata": {
        "colab": {
          "base_uri": "https://localhost:8080/"
        },
        "id": "IoDcn75Tff8v",
        "outputId": "81f94a93-d71c-4a07-d51c-5dae377b1d8b"
      },
      "execution_count": 42,
      "outputs": [
        {
          "output_type": "stream",
          "name": "stdout",
          "text": [
            "Good day for a walk!\n"
          ]
        }
      ]
    },
    {
      "cell_type": "code",
      "execution_count": 44,
      "metadata": {
        "colab": {
          "base_uri": "https://localhost:8080/"
        },
        "id": "bwj5Qq-qT-k_",
        "outputId": "c77aca60-0424-4408-c157-14fe24a5ddde"
      },
      "outputs": [
        {
          "output_type": "stream",
          "name": "stdout",
          "text": [
            "Excellent performance!\n"
          ]
        }
      ],
      "source": [
        "# Complex conditions\n",
        "score = 85\n",
        "attendance = 90\n",
        "\n",
        "if (score >= 80 and attendance >= 85) or score >= 95:\n",
        "    print(\"Excellent performance!\")\n",
        "else:\n",
        "    print(\"Good effort, keep improving!\")"
      ]
    },
    {
      "cell_type": "markdown",
      "metadata": {
        "id": "NWe1wRoST-lA"
      },
      "source": [
        "### 2.4 Nested If Statements (Exlplore by yourself)\n",
        "\n",
        "You can put if statements inside other if statements to create more complex decision trees."
      ]
    },
    {
      "cell_type": "code",
      "execution_count": null,
      "metadata": {
        "id": "Nh6IoOE-T-lA"
      },
      "outputs": [],
      "source": [
        "# Nested if statements\n",
        "weather = \"sunny\"\n",
        "temperature = 25\n",
        "\n",
        "if weather == \"sunny\":\n",
        "    print(\"It's sunny!\")\n",
        "    if temperature > 25:\n",
        "        print(\"Perfect for swimming!\")\n",
        "    elif temperature > 15:\n",
        "        print(\"Great for a picnic!\")\n",
        "    else:\n",
        "        print(\"Might need a jacket.\")\n",
        "else:\n",
        "    print(\"Not sunny today.\")\n",
        "    if weather == \"rainy\":\n",
        "        print(\"Don't forget your umbrella!\")\n",
        "\n",
        "# Alternative using logical operators (often cleaner)\n",
        "if weather == \"sunny\" and temperature > 25:\n",
        "    print(\"\\nAlternative: Perfect beach weather!\")\n",
        "elif weather == \"sunny\" and temperature > 15:\n",
        "    print(\"\\nAlternative: Nice day for outdoor activities!\")"
      ]
    },
    {
      "cell_type": "markdown",
      "metadata": {
        "id": "deujPTI3T-lA"
      },
      "source": [
        "## 3. For Loops - Iteration and Repetition\n",
        "\n",
        "**What are For Loops?**\n",
        "- For loops allow you to repeat code multiple times\n",
        "- They iterate (go through) sequences like lists, strings, ranges\n",
        "- Very useful for processing collections of data\n",
        "- Python's for loops are \"for-each\" style - they go through each item"
      ]
    },
    {
      "cell_type": "markdown",
      "metadata": {
        "id": "Cd15ekHST-lA"
      },
      "source": [
        "### 3.1 Basic For Loop Structure\n",
        "\n",
        "```python\n",
        "for item in sequence:\n",
        "    # Code to execute for each item\n",
        "    pass\n",
        "```"
      ]
    },
    {
      "cell_type": "code",
      "source": [
        "# Iterating through a list\n",
        "fruits = [\"apple\", \"banana\", \"orange\", \"grape\"]\n",
        "\n",
        "print(\"My favorite fruits:\")\n",
        "for fruit in fruits:\n",
        "    print(f\"- {fruit}\")"
      ],
      "metadata": {
        "colab": {
          "base_uri": "https://localhost:8080/"
        },
        "id": "vjXx9yj1hTIu",
        "outputId": "d3bafc7c-204d-47a6-e6c9-666ab9739479"
      },
      "execution_count": 45,
      "outputs": [
        {
          "output_type": "stream",
          "name": "stdout",
          "text": [
            "My favorite fruits:\n",
            "- apple\n",
            "- banana\n",
            "- orange\n",
            "- grape\n"
          ]
        }
      ]
    },
    {
      "cell_type": "code",
      "source": [
        "# Iterating through a string\n",
        "word = \"Python\"\n",
        "print(f\"\\nLetters in '{word}':\")\n",
        "for letter in word:\n",
        "    print(letter)"
      ],
      "metadata": {
        "colab": {
          "base_uri": "https://localhost:8080/"
        },
        "id": "GOl_FLejhYxq",
        "outputId": "14e77feb-56ea-4fe0-b8ad-c247cb2ee17c"
      },
      "execution_count": 46,
      "outputs": [
        {
          "output_type": "stream",
          "name": "stdout",
          "text": [
            "\n",
            "Letters in 'Python':\n",
            "P\n",
            "y\n",
            "t\n",
            "h\n",
            "o\n",
            "n\n"
          ]
        }
      ]
    },
    {
      "cell_type": "code",
      "source": [
        "# Using range() to iterate numbers\n",
        "print(\"\\nCounting to 5:\")\n",
        "for number in range(1, 6):  # range(start, stop)\n",
        "    print(number)"
      ],
      "metadata": {
        "colab": {
          "base_uri": "https://localhost:8080/"
        },
        "id": "pJ3gOejlhbEk",
        "outputId": "37d31dff-b309-482c-8613-b03077f34bb0"
      },
      "execution_count": 47,
      "outputs": [
        {
          "output_type": "stream",
          "name": "stdout",
          "text": [
            "\n",
            "Counting to 5:\n",
            "1\n",
            "2\n",
            "3\n",
            "4\n",
            "5\n"
          ]
        }
      ]
    },
    {
      "cell_type": "code",
      "execution_count": 49,
      "metadata": {
        "colab": {
          "base_uri": "https://localhost:8080/"
        },
        "id": "QigLNNh5T-lA",
        "outputId": "6101d74a-ac78-4fba-e26c-457cd1b2f4ef"
      },
      "outputs": [
        {
          "output_type": "stream",
          "name": "stdout",
          "text": [
            "\n",
            "Even numbers from 0 to 10:\n",
            "0\n",
            "2\n",
            "4\n",
            "6\n",
            "8\n",
            "10\n"
          ]
        }
      ],
      "source": [
        "print(\"\\nEven numbers from 0 to 10:\")\n",
        "for number in range(0, 11, 2):  # range(start, stop, step)\n",
        "    print(number)"
      ]
    },
    {
      "cell_type": "markdown",
      "metadata": {
        "id": "Ly74qld6T-lA"
      },
      "source": [
        "### 3.2 Iterating Through Dictionaries\n",
        "\n",
        "Dictionaries can be iterated in different ways:\n",
        "- Iterate through keys\n",
        "- Iterate through values  \n",
        "- Iterate through key-value pairs"
      ]
    },
    {
      "cell_type": "code",
      "source": [
        "student_grades = {\n",
        "    \"Alice\": 95,\n",
        "    \"Bob\": 87,\n",
        "    \"Charlie\": 92,\n",
        "    \"Diana\": 98\n",
        "}\n",
        "\n",
        "# Iterate through keys (default behavior)\n",
        "print(\"Student names:\")\n",
        "for name in student_grades:\n",
        "    print(f\"- {name}\")\n",
        "\n",
        "# Iterate through values\n",
        "print(\"\\nGrades:\")\n",
        "for grade in student_grades.values():\n",
        "    print(f\"- {grade}\")\n",
        "\n",
        "# Iterate through key-value pairs\n",
        "print(\"\\nStudent grades:\")\n",
        "for name, grade in student_grades.items():\n",
        "    print(f\"- {name}: {grade}\")\n"
      ],
      "metadata": {
        "colab": {
          "base_uri": "https://localhost:8080/"
        },
        "id": "pZtjbQW8hqlE",
        "outputId": "ae94e7c5-355c-499b-8070-b080bd2d0bfd"
      },
      "execution_count": 51,
      "outputs": [
        {
          "output_type": "stream",
          "name": "stdout",
          "text": [
            "Student names:\n",
            "- Alice\n",
            "- Bob\n",
            "- Charlie\n",
            "- Diana\n",
            "\n",
            "Grades:\n",
            "- 95\n",
            "- 87\n",
            "- 92\n",
            "- 98\n",
            "\n",
            "Student grades:\n",
            "- Alice: 95\n",
            "- Bob: 87\n",
            "- Charlie: 92\n",
            "- Diana: 98\n"
          ]
        }
      ]
    },
    {
      "cell_type": "code",
      "execution_count": 52,
      "metadata": {
        "colab": {
          "base_uri": "https://localhost:8080/"
        },
        "id": "txA14ZLrT-lA",
        "outputId": "8ed9632d-801a-4ca6-a8a9-48682ed53d4e"
      },
      "outputs": [
        {
          "output_type": "stream",
          "name": "stdout",
          "text": [
            "\n",
            "Highest grade: Diana with 98\n"
          ]
        }
      ],
      "source": [
        "\n",
        "# Finding the highest grade\n",
        "highest_grade = 0\n",
        "best_student = \"\"\n",
        "\n",
        "for name, grade in student_grades.items():\n",
        "    if grade > highest_grade:\n",
        "        highest_grade = grade\n",
        "        best_student = name\n",
        "\n",
        "print(f\"\\nHighest grade: {best_student} with {highest_grade}\")"
      ]
    },
    {
      "cell_type": "markdown",
      "metadata": {
        "id": "fZL-h1cCT-lB"
      },
      "source": [
        "## 4. Functions - Creating Reusable Code\n",
        "\n",
        "**What are Functions?**\n",
        "- Functions are reusable blocks of code that perform specific tasks\n",
        "- They help organize code and avoid repetition\n",
        "- Functions can take inputs (parameters) and return outputs\n",
        "- They make code more modular and easier to maintain"
      ]
    },
    {
      "cell_type": "markdown",
      "metadata": {
        "id": "B6UqR4u3T-lB"
      },
      "source": [
        "### 4.1 Basic Function Structure\n",
        "\n",
        "```python\n",
        "def function_name(parameters):\n",
        "    \"\"\"\n",
        "    Optional docstring to describe the function\n",
        "    \"\"\"\n",
        "    # Function body\n",
        "    return value  # Optional\n",
        "```"
      ]
    },
    {
      "cell_type": "code",
      "source": [
        "# Simple function without parameters\n",
        "def greet():\n",
        "    \"\"\"Prints a greeting message\"\"\"\n",
        "    print(\"Hello, World!\")\n",
        "\n",
        "# Call the function\n",
        "greet()"
      ],
      "metadata": {
        "colab": {
          "base_uri": "https://localhost:8080/"
        },
        "id": "HwqNrmYpiMZF",
        "outputId": "d4b279f3-4564-4587-976f-1d23ec7d2e91"
      },
      "execution_count": 55,
      "outputs": [
        {
          "output_type": "stream",
          "name": "stdout",
          "text": [
            "Hello, World!\n"
          ]
        }
      ]
    },
    {
      "cell_type": "code",
      "source": [
        "# Function with parameters\n",
        "def greet_person(name):\n",
        "    \"\"\"Greets a specific person\"\"\"\n",
        "    print(f\"Hello, {name}!\")\n",
        "\n",
        "greet_person(\"Alice\")\n",
        "greet_person(\"Bob\")"
      ],
      "metadata": {
        "colab": {
          "base_uri": "https://localhost:8080/"
        },
        "id": "JNOpHp6aiRNH",
        "outputId": "2be1e49e-108e-470d-bb2a-ff1979fb8838"
      },
      "execution_count": 56,
      "outputs": [
        {
          "output_type": "stream",
          "name": "stdout",
          "text": [
            "Hello, Alice!\n",
            "Hello, Bob!\n"
          ]
        }
      ]
    },
    {
      "cell_type": "code",
      "source": [
        "# Function with multiple parameters\n",
        "def introduce(name, age, city):\n",
        "    \"\"\"Introduces a person with their details\"\"\"\n",
        "    print(f\"Hi, I'm {name}. I'm {age} years old and I live in {city}.\")\n",
        "\n",
        "introduce(\"Charlie\", 25, \"New York\")\n",
        "introduce(\"Diana\", 30, \"London\")"
      ],
      "metadata": {
        "colab": {
          "base_uri": "https://localhost:8080/"
        },
        "id": "19pjSHNxiUiz",
        "outputId": "676987e1-af88-4efc-adf3-1b16f5371960"
      },
      "execution_count": 57,
      "outputs": [
        {
          "output_type": "stream",
          "name": "stdout",
          "text": [
            "Hi, I'm Charlie. I'm 25 years old and I live in New York.\n",
            "Hi, I'm Diana. I'm 30 years old and I live in London.\n"
          ]
        }
      ]
    },
    {
      "cell_type": "code",
      "source": [
        "def even_or_odd(number):\n",
        "    \"\"\"Determines if a number is even or odd\"\"\"\n",
        "    if number % 2 == 0:\n",
        "        return \"Even\"\n",
        "    else:\n",
        "        return \"Odd\""
      ],
      "metadata": {
        "id": "MbMFUVv9h6md"
      },
      "execution_count": 53,
      "outputs": []
    },
    {
      "cell_type": "code",
      "source": [
        "n=int(input('Enter a number : '))\n",
        "print(f\"{n} is {even_or_odd(n)}\")"
      ],
      "metadata": {
        "colab": {
          "base_uri": "https://localhost:8080/"
        },
        "id": "eC4Q0uRTiDmU",
        "outputId": "71eba1a7-b53b-4407-fdaf-addbf187f5f9"
      },
      "execution_count": 54,
      "outputs": [
        {
          "output_type": "stream",
          "name": "stdout",
          "text": [
            "Enter a number : 10\n",
            "10 is Even\n"
          ]
        }
      ]
    },
    {
      "cell_type": "markdown",
      "metadata": {
        "id": "xb1dpl3ST-lB"
      },
      "source": [
        "### 4.2 Functions with Return Values\n",
        "\n",
        "Functions can return values using the `return` statement. This allows you to use the result of a function in other parts of your code."
      ]
    },
    {
      "cell_type": "code",
      "source": [
        "# More complex function\n",
        "def calculate_area(length, width):\n",
        "    \"\"\"Calculates the area of a rectangle\"\"\"\n",
        "    area = length * width\n",
        "    return area\n",
        "\n",
        "room_area = calculate_area(10, 12)\n",
        "print(f\"Room area: {room_area} square meters\")"
      ],
      "metadata": {
        "colab": {
          "base_uri": "https://localhost:8080/"
        },
        "id": "bbxC5TjPilBb",
        "outputId": "3b32294e-bb0a-4579-e87f-56d2df0bd508"
      },
      "execution_count": 58,
      "outputs": [
        {
          "output_type": "stream",
          "name": "stdout",
          "text": [
            "Room area: 120 square meters\n"
          ]
        }
      ]
    },
    {
      "cell_type": "code",
      "source": [
        "\n",
        "# Function that returns multiple values\n",
        "def get_name_parts(full_name):\n",
        "    \"\"\"Splits a full name into first and last name\"\"\"\n",
        "    parts = full_name.split()\n",
        "    first_name = parts[0]\n",
        "    last_name = parts[-1] if len(parts) > 1 else \"\"\n",
        "    return first_name, last_name\n",
        "\n",
        "first, last = get_name_parts(\"John Doe\")\n",
        "print(f\"First name: {first}, Last name: {last}\")"
      ],
      "metadata": {
        "colab": {
          "base_uri": "https://localhost:8080/"
        },
        "id": "oQLc-F_5irVk",
        "outputId": "8c8d1f4a-aee3-43df-b60a-02f4f0635ea2"
      },
      "execution_count": 59,
      "outputs": [
        {
          "output_type": "stream",
          "name": "stdout",
          "text": [
            "First name: John, Last name: Doe\n"
          ]
        }
      ]
    }
  ],
  "metadata": {
    "kernelspec": {
      "display_name": "Python 3",
      "language": "python",
      "name": "python3"
    },
    "language_info": {
      "codemirror_mode": {
        "name": "ipython",
        "version": 3
      },
      "file_extension": ".py",
      "mimetype": "text/x-python",
      "name": "python",
      "nbconvert_exporter": "python",
      "pygments_lexer": "ipython3",
      "version": "3.8.5"
    },
    "colab": {
      "provenance": [],
      "include_colab_link": true
    }
  },
  "nbformat": 4,
  "nbformat_minor": 0
}