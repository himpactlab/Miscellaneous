{
  "cells": [
    {
      "cell_type": "markdown",
      "metadata": {
        "id": "view-in-github",
        "colab_type": "text"
      },
      "source": [
        "<a href=\"https://colab.research.google.com/github/himpactlab/Miscellaneous/blob/main/basic.ipynb\" target=\"_parent\"><img src=\"https://colab.research.google.com/assets/colab-badge.svg\" alt=\"Open In Colab\"/></a>"
      ]
    },
    {
      "cell_type": "markdown",
      "metadata": {
        "id": "lcX8AaraT-k5"
      },
      "source": [
        "# Python Fundamentals: Data Structures, Control Flow & Functions\n",
        "\n",
        "Instructor:\n",
        "\n",
        "***Name:*** Siddik Barbhuiya\n",
        "\n",
        "\n",
        "**Email:** siddikbarbhuiya@gmail.com\n",
        "\n",
        "This notebook covers the essential building blocks of Python programming:\n",
        "- **Basic Data Structures**: Lists, Dictionaries, Tuples, and Sets\n",
        "- **If Statements**: Decision making in code\n",
        "- **For Loops**: Iteration and repetition\n",
        "- **Functions**: Creating reusable code blocks\n",
        "\n",
        "Each section includes detailed explanations and practical examples."
      ]
    },
    {
      "cell_type": "code",
      "source": [
        "# Examples of Basic Python Data Types\n",
        "\n",
        "# 1. String (str) - ordered, immutable sequence of characters\n",
        "my_string = \"Hello, Python!\"\n",
        "print(f\"String: {my_string}, Type: {type(my_string)}\")\n",
        "\n",
        "# 2. Integer (int) - whole numbers (positive, negative, or zero)\n",
        "my_integer = 123\n",
        "print(f\"Integer: {my_integer}, Type: {type(my_integer)}\")\n",
        "\n",
        "# 3. Float (float) - numbers with a decimal point\n",
        "my_float = 3.14159\n",
        "print(f\"Float: {my_float}, Type: {type(my_float)}\")\n",
        "\n",
        "# 4. Boolean (bool) - represents truth values (True or False)\n",
        "my_boolean_true = True\n",
        "my_boolean_false = False\n",
        "print(f\"Boolean True: {my_boolean_true}, Type: {type(my_boolean_true)}\")\n",
        "print(f\"Boolean False: {my_boolean_false}, Type: {type(my_boolean_false)}\")"
      ],
      "metadata": {
        "colab": {
          "base_uri": "https://localhost:8080/"
        },
        "id": "lN4BBvnDURqJ",
        "outputId": "9f97902b-cbe0-4064-a40a-c5956a36cda1"
      },
      "execution_count": 2,
      "outputs": [
        {
          "output_type": "stream",
          "name": "stdout",
          "text": [
            "String: Hello, Python!, Type: <class 'str'>\n",
            "Integer: 123, Type: <class 'int'>\n",
            "Float: 3.14159, Type: <class 'float'>\n",
            "Boolean True: True, Type: <class 'bool'>\n",
            "Boolean False: False, Type: <class 'bool'>\n"
          ]
        }
      ]
    },
    {
      "cell_type": "markdown",
      "metadata": {
        "id": "GfSlKtO0T-k7"
      },
      "source": [
        "## 1. Basic Data Structures\n",
        "\n",
        "Data structures are ways to organize and store data in Python. Let's explore the four main types:"
      ]
    },
    {
      "cell_type": "markdown",
      "metadata": {
        "id": "_UkHlm6rT-k8"
      },
      "source": [
        "### 1.1 Lists\n",
        "\n",
        "**What is a List?**\n",
        "- A list is an ordered collection of items\n",
        "- Items can be of different data types\n",
        "- Lists are **mutable** (can be changed after creation)\n",
        "- Lists are defined using square brackets `[]`\n",
        "- Items are separated by commas"
      ]
    },
    {
      "cell_type": "code",
      "execution_count": 7,
      "metadata": {
        "colab": {
          "base_uri": "https://localhost:8080/"
        },
        "id": "MlWfgHm7T-k8",
        "outputId": "e5d93637-761e-46a0-abfe-ce31363b2c06"
      },
      "outputs": [
        {
          "output_type": "stream",
          "name": "stdout",
          "text": [
            "Fruits: ['apple', 'banana', 'orange', 'grape']\n",
            "Numbers: [1, 2, 3, 4, 5]\n",
            "Mixed list: ['hello', 42, 3.14, True]\n"
          ]
        }
      ],
      "source": [
        "# Creating lists\n",
        "fruits = [\"apple\", \"banana\", \"orange\", \"grape\"]\n",
        "numbers = [1, 2, 3, 4, 5]\n",
        "mixed_list = [\"hello\", 42, 3.14, True]\n",
        "\n",
        "print(\"Fruits:\", fruits)\n",
        "print(\"Numbers:\", numbers)\n",
        "print(\"Mixed list:\", mixed_list)\n"
      ]
    },
    {
      "cell_type": "code",
      "source": [
        "\n",
        "# Accessing elements (indexing starts at 0)\n",
        "print(\"\\nFirst fruit:\", fruits[0])\n",
        "print(\"Last fruit:\", fruits[-1])  # Negative indexing\n",
        "\n",
        "# Modifying lists\n",
        "fruits.append(\"mango\")  # Add to end\n",
        "fruits.insert(1, \"kiwi\")  # Insert at specific position\n",
        "print(\"\\nAfter modifications:\", fruits)\n",
        "\n",
        "# List length\n",
        "print(\"Number of fruits:\", len(fruits))"
      ],
      "metadata": {
        "colab": {
          "base_uri": "https://localhost:8080/"
        },
        "id": "JUIBTcSLbC0g",
        "outputId": "98a9ee2e-2691-46b1-f18d-4c0e0392a8a2"
      },
      "execution_count": 9,
      "outputs": [
        {
          "output_type": "stream",
          "name": "stdout",
          "text": [
            "\n",
            "First fruit: apple\n",
            "Last fruit: grape\n",
            "\n",
            "After modifications: ['apple', 'kiwi', 'banana', 'orange', 'grape', 'mango']\n",
            "Number of fruits: 6\n"
          ]
        }
      ]
    },
    {
      "cell_type": "markdown",
      "metadata": {
        "id": "YwjwGezRT-k9"
      },
      "source": [
        "### 1.2 Dictionaries\n",
        "\n",
        "**What is a Dictionary?**\n",
        "- A dictionary stores data in **key-value pairs**\n",
        "- Keys must be unique and immutable (strings, numbers, tuples)\n",
        "- Values can be any data type\n",
        "- Dictionaries are **mutable**\n",
        "- Defined using curly braces `{}`\n",
        "- Very fast for lookups by key"
      ]
    },
    {
      "cell_type": "code",
      "execution_count": null,
      "metadata": {
        "id": "UiidS9JGT-k9"
      },
      "outputs": [],
      "source": [
        "# Creating dictionaries\n",
        "student = {\n",
        "    \"name\": \"Alice\",\n",
        "    \"age\": 20,\n",
        "    \"grade\": \"A\",\n",
        "    \"subjects\": [\"Math\", \"Physics\", \"Chemistry\"]\n",
        "}\n",
        "\n",
        "print(\"Student information:\", student)\n",
        "\n",
        "# Accessing values\n",
        "print(\"\\nStudent name:\", student[\"name\"])\n",
        "print(\"Student age:\", student[\"age\"])\n",
        "\n",
        "# Adding/modifying values\n",
        "student[\"email\"] = \"alice@example.com\"  # Add new key-value\n",
        "student[\"age\"] = 21  # Modify existing value\n",
        "\n",
        "print(\"\\nUpdated student:\", student)\n",
        "\n",
        "# Dictionary methods\n",
        "print(\"\\nAll keys:\", list(student.keys()))\n",
        "print(\"All values:\", list(student.values()))\n",
        "print(\"Key-value pairs:\", list(student.items()))"
      ]
    },
    {
      "cell_type": "markdown",
      "metadata": {
        "id": "ZYNFA2lcT-k9"
      },
      "source": [
        "### 1.3 Tuples\n",
        "\n",
        "**What is a Tuple?**\n",
        "- A tuple is an ordered collection of items\n",
        "- Tuples are **immutable** (cannot be changed after creation)\n",
        "- Defined using parentheses `()` or just commas\n",
        "- Useful for storing related data that shouldn't change\n",
        "- Can be used as dictionary keys (unlike lists)"
      ]
    },
    {
      "cell_type": "code",
      "execution_count": null,
      "metadata": {
        "id": "hjqnsMrET-k-"
      },
      "outputs": [],
      "source": [
        "# Creating tuples\n",
        "coordinates = (10, 20)\n",
        "rgb_color = (255, 128, 0)\n",
        "person = (\"John\", \"Doe\", 25, \"Engineer\")\n",
        "\n",
        "print(\"Coordinates:\", coordinates)\n",
        "print(\"RGB Color:\", rgb_color)\n",
        "print(\"Person:\", person)\n",
        "\n",
        "# Accessing elements\n",
        "print(\"\\nX coordinate:\", coordinates[0])\n",
        "print(\"Y coordinate:\", coordinates[1])\n",
        "\n",
        "# Tuple unpacking\n",
        "x, y = coordinates\n",
        "print(f\"\\nUnpacked - X: {x}, Y: {y}\")\n",
        "\n",
        "first_name, last_name, age, job = person\n",
        "print(f\"Name: {first_name} {last_name}, Age: {age}, Job: {job}\")\n",
        "\n",
        "# Tuples are immutable - this would cause an error:\n",
        "# coordinates[0] = 15  # TypeError!"
      ]
    },
    {
      "cell_type": "markdown",
      "metadata": {
        "id": "Lf8bcGP5T-k-"
      },
      "source": [
        "### 1.4 Sets\n",
        "\n",
        "**What is a Set?**\n",
        "- A set is an unordered collection of **unique** items\n",
        "- No duplicate values allowed\n",
        "- Sets are **mutable**\n",
        "- Defined using curly braces `{}` or `set()` function\n",
        "- Great for removing duplicates and set operations (union, intersection)"
      ]
    },
    {
      "cell_type": "code",
      "execution_count": null,
      "metadata": {
        "id": "yvvxjjKMT-k-"
      },
      "outputs": [],
      "source": [
        "# Creating sets\n",
        "unique_numbers = {1, 2, 3, 4, 5}\n",
        "colors = {\"red\", \"green\", \"blue\", \"red\"}  # Duplicate \"red\" will be removed\n",
        "\n",
        "print(\"Unique numbers:\", unique_numbers)\n",
        "print(\"Colors (duplicates removed):\", colors)\n",
        "\n",
        "# Creating set from list (removes duplicates)\n",
        "numbers_list = [1, 2, 2, 3, 3, 3, 4, 5]\n",
        "unique_from_list = set(numbers_list)\n",
        "print(\"\\nOriginal list:\", numbers_list)\n",
        "print(\"Unique from list:\", unique_from_list)\n",
        "\n",
        "# Set operations\n",
        "set1 = {1, 2, 3, 4}\n",
        "set2 = {3, 4, 5, 6}\n",
        "\n",
        "print(\"\\nSet 1:\", set1)\n",
        "print(\"Set 2:\", set2)\n",
        "print(\"Union (all elements):\", set1 | set2)\n",
        "print(\"Intersection (common elements):\", set1 & set2)\n",
        "print(\"Difference (in set1 but not set2):\", set1 - set2)\n",
        "\n",
        "# Adding/removing elements\n",
        "colors.add(\"yellow\")\n",
        "colors.remove(\"red\")\n",
        "print(\"\\nModified colors:\", colors)"
      ]
    },
    {
      "cell_type": "markdown",
      "metadata": {
        "id": "p0ibYCXVT-k_"
      },
      "source": [
        "## 2. If Statements - Decision Making\n",
        "\n",
        "**What are If Statements?**\n",
        "- If statements allow your program to make decisions\n",
        "- They execute different code based on conditions\n",
        "- Conditions evaluate to `True` or `False` (boolean values)\n",
        "- Python uses **indentation** to define code blocks"
      ]
    },
    {
      "cell_type": "markdown",
      "metadata": {
        "id": "1jfvjxz5T-k_"
      },
      "source": [
        "### 2.1 Basic If Statement Structure\n",
        "\n",
        "```python\n",
        "if condition:\n",
        "    # Code to execute if condition is True\n",
        "    pass\n",
        "elif another_condition:  # Optional\n",
        "    # Code to execute if another_condition is True\n",
        "    pass\n",
        "else:  # Optional\n",
        "    # Code to execute if all conditions are False\n",
        "    pass\n",
        "```"
      ]
    },
    {
      "cell_type": "code",
      "execution_count": null,
      "metadata": {
        "id": "46MFP17WT-k_"
      },
      "outputs": [],
      "source": [
        "# Simple if statement\n",
        "age = 18\n",
        "\n",
        "if age >= 18:\n",
        "    print(\"You are an adult!\")\n",
        "\n",
        "print(\"This line always executes\")\n",
        "\n",
        "# If-else statement\n",
        "temperature = 25\n",
        "\n",
        "if temperature > 30:\n",
        "    print(\"It's hot outside!\")\n",
        "else:\n",
        "    print(\"It's not too hot.\")\n",
        "\n",
        "# If-elif-else statement\n",
        "score = 85\n",
        "\n",
        "if score >= 90:\n",
        "    grade = \"A\"\n",
        "elif score >= 80:\n",
        "    grade = \"B\"\n",
        "elif score >= 70:\n",
        "    grade = \"C\"\n",
        "elif score >= 60:\n",
        "    grade = \"D\"\n",
        "else:\n",
        "    grade = \"F\"\n",
        "\n",
        "print(f\"Score: {score}, Grade: {grade}\")"
      ]
    },
    {
      "cell_type": "markdown",
      "metadata": {
        "id": "nObDKA3tT-k_"
      },
      "source": [
        "### 2.2 Comparison Operators\n",
        "\n",
        "| Operator | Description | Example |\n",
        "|----------|-------------|----------|\n",
        "| `==` | Equal to | `x == 5` |\n",
        "| `!=` | Not equal to | `x != 5` |\n",
        "| `>` | Greater than | `x > 5` |\n",
        "| `<` | Less than | `x < 5` |\n",
        "| `>=` | Greater than or equal | `x >= 5` |\n",
        "| `<=` | Less than or equal | `x <= 5` |"
      ]
    },
    {
      "cell_type": "code",
      "execution_count": null,
      "metadata": {
        "id": "hV5ca6G8T-k_"
      },
      "outputs": [],
      "source": [
        "# Comparison operators examples\n",
        "x = 10\n",
        "y = 5\n",
        "\n",
        "print(f\"x = {x}, y = {y}\")\n",
        "print(f\"x == y: {x == y}\")\n",
        "print(f\"x != y: {x != y}\")\n",
        "print(f\"x > y: {x > y}\")\n",
        "print(f\"x < y: {x < y}\")\n",
        "print(f\"x >= y: {x >= y}\")\n",
        "print(f\"x <= y: {x <= y}\")\n",
        "\n",
        "# String comparisons\n",
        "name = \"Alice\"\n",
        "if name == \"Alice\":\n",
        "    print(\"\\nHello, Alice!\")\n",
        "\n",
        "# Checking if value is in a list\n",
        "fruits = [\"apple\", \"banana\", \"orange\"]\n",
        "if \"banana\" in fruits:\n",
        "    print(\"We have bananas!\")"
      ]
    },
    {
      "cell_type": "markdown",
      "metadata": {
        "id": "fg9I4MRRT-k_"
      },
      "source": [
        "### 2.3 Logical Operators\n",
        "\n",
        "| Operator | Description | Example |\n",
        "|----------|-------------|----------|\n",
        "| `and` | Both conditions must be True | `x > 5 and y < 10` |\n",
        "| `or` | At least one condition must be True | `x > 5 or y < 10` |\n",
        "| `not` | Reverses the boolean value | `not x > 5` |"
      ]
    },
    {
      "cell_type": "code",
      "execution_count": null,
      "metadata": {
        "id": "bwj5Qq-qT-k_"
      },
      "outputs": [],
      "source": [
        "# Logical operators examples\n",
        "age = 25\n",
        "has_license = True\n",
        "\n",
        "# AND operator\n",
        "if age >= 18 and has_license:\n",
        "    print(\"You can drive!\")\n",
        "\n",
        "# OR operator\n",
        "weather = \"sunny\"\n",
        "if weather == \"sunny\" or weather == \"cloudy\":\n",
        "    print(\"Good day for a walk!\")\n",
        "\n",
        "# NOT operator\n",
        "is_raining = False\n",
        "if not is_raining:\n",
        "    print(\"No umbrella needed!\")\n",
        "\n",
        "# Complex conditions\n",
        "score = 85\n",
        "attendance = 90\n",
        "\n",
        "if (score >= 80 and attendance >= 85) or score >= 95:\n",
        "    print(\"Excellent performance!\")\n",
        "else:\n",
        "    print(\"Good effort, keep improving!\")"
      ]
    },
    {
      "cell_type": "markdown",
      "metadata": {
        "id": "NWe1wRoST-lA"
      },
      "source": [
        "### 2.4 Nested If Statements\n",
        "\n",
        "You can put if statements inside other if statements to create more complex decision trees."
      ]
    },
    {
      "cell_type": "code",
      "execution_count": null,
      "metadata": {
        "id": "Nh6IoOE-T-lA"
      },
      "outputs": [],
      "source": [
        "# Nested if statements\n",
        "weather = \"sunny\"\n",
        "temperature = 25\n",
        "\n",
        "if weather == \"sunny\":\n",
        "    print(\"It's sunny!\")\n",
        "    if temperature > 25:\n",
        "        print(\"Perfect for swimming!\")\n",
        "    elif temperature > 15:\n",
        "        print(\"Great for a picnic!\")\n",
        "    else:\n",
        "        print(\"Might need a jacket.\")\n",
        "else:\n",
        "    print(\"Not sunny today.\")\n",
        "    if weather == \"rainy\":\n",
        "        print(\"Don't forget your umbrella!\")\n",
        "\n",
        "# Alternative using logical operators (often cleaner)\n",
        "if weather == \"sunny\" and temperature > 25:\n",
        "    print(\"\\nAlternative: Perfect beach weather!\")\n",
        "elif weather == \"sunny\" and temperature > 15:\n",
        "    print(\"\\nAlternative: Nice day for outdoor activities!\")"
      ]
    },
    {
      "cell_type": "markdown",
      "metadata": {
        "id": "deujPTI3T-lA"
      },
      "source": [
        "## 3. For Loops - Iteration and Repetition\n",
        "\n",
        "**What are For Loops?**\n",
        "- For loops allow you to repeat code multiple times\n",
        "- They iterate (go through) sequences like lists, strings, ranges\n",
        "- Very useful for processing collections of data\n",
        "- Python's for loops are \"for-each\" style - they go through each item"
      ]
    },
    {
      "cell_type": "markdown",
      "metadata": {
        "id": "Cd15ekHST-lA"
      },
      "source": [
        "### 3.1 Basic For Loop Structure\n",
        "\n",
        "```python\n",
        "for item in sequence:\n",
        "    # Code to execute for each item\n",
        "    pass\n",
        "```"
      ]
    },
    {
      "cell_type": "code",
      "execution_count": null,
      "metadata": {
        "id": "QigLNNh5T-lA"
      },
      "outputs": [],
      "source": [
        "# Iterating through a list\n",
        "fruits = [\"apple\", \"banana\", \"orange\", \"grape\"]\n",
        "\n",
        "print(\"My favorite fruits:\")\n",
        "for fruit in fruits:\n",
        "    print(f\"- {fruit}\")\n",
        "\n",
        "# Iterating through a string\n",
        "word = \"Python\"\n",
        "print(f\"\\nLetters in '{word}':\")\n",
        "for letter in word:\n",
        "    print(letter)\n",
        "\n",
        "# Using range() to iterate numbers\n",
        "print(\"\\nCounting to 5:\")\n",
        "for number in range(1, 6):  # range(start, stop)\n",
        "    print(number)\n",
        "\n",
        "print(\"\\nEven numbers from 0 to 10:\")\n",
        "for number in range(0, 11, 2):  # range(start, stop, step)\n",
        "    print(number)"
      ]
    },
    {
      "cell_type": "markdown",
      "metadata": {
        "id": "Ly74qld6T-lA"
      },
      "source": [
        "### 3.2 Iterating Through Dictionaries\n",
        "\n",
        "Dictionaries can be iterated in different ways:\n",
        "- Iterate through keys\n",
        "- Iterate through values  \n",
        "- Iterate through key-value pairs"
      ]
    },
    {
      "cell_type": "code",
      "execution_count": null,
      "metadata": {
        "id": "txA14ZLrT-lA"
      },
      "outputs": [],
      "source": [
        "student_grades = {\n",
        "    \"Alice\": 95,\n",
        "    \"Bob\": 87,\n",
        "    \"Charlie\": 92,\n",
        "    \"Diana\": 98\n",
        "}\n",
        "\n",
        "# Iterate through keys (default behavior)\n",
        "print(\"Student names:\")\n",
        "for name in student_grades:\n",
        "    print(f\"- {name}\")\n",
        "\n",
        "# Iterate through values\n",
        "print(\"\\nGrades:\")\n",
        "for grade in student_grades.values():\n",
        "    print(f\"- {grade}\")\n",
        "\n",
        "# Iterate through key-value pairs\n",
        "print(\"\\nStudent grades:\")\n",
        "for name, grade in student_grades.items():\n",
        "    print(f\"- {name}: {grade}\")\n",
        "\n",
        "# Finding the highest grade\n",
        "highest_grade = 0\n",
        "best_student = \"\"\n",
        "\n",
        "for name, grade in student_grades.items():\n",
        "    if grade > highest_grade:\n",
        "        highest_grade = grade\n",
        "        best_student = name\n",
        "\n",
        "print(f\"\\nHighest grade: {best_student} with {highest_grade}\")"
      ]
    },
    {
      "cell_type": "markdown",
      "metadata": {
        "id": "hW4aQd3LT-lA"
      },
      "source": [
        "### 3.3 Enumerate and Zip\n",
        "\n",
        "**enumerate()**: Gives you both the index and the item  \n",
        "**zip()**: Combines multiple sequences"
      ]
    },
    {
      "cell_type": "code",
      "execution_count": null,
      "metadata": {
        "id": "79uXi6juT-lA"
      },
      "outputs": [],
      "source": [
        "# Using enumerate() to get index and item\n",
        "colors = [\"red\", \"green\", \"blue\", \"yellow\"]\n",
        "\n",
        "print(\"Colors with their positions:\")\n",
        "for index, color in enumerate(colors):\n",
        "    print(f\"{index}: {color}\")\n",
        "\n",
        "# Starting enumerate from a different number\n",
        "print(\"\\nColors starting from 1:\")\n",
        "for position, color in enumerate(colors, 1):\n",
        "    print(f\"{position}. {color}\")\n",
        "\n",
        "# Using zip() to combine lists\n",
        "names = [\"Alice\", \"Bob\", \"Charlie\"]\n",
        "ages = [25, 30, 35]\n",
        "cities = [\"New York\", \"London\", \"Tokyo\"]\n",
        "\n",
        "print(\"\\nPeople information:\")\n",
        "for name, age, city in zip(names, ages, cities):\n",
        "    print(f\"{name} is {age} years old and lives in {city}\")"
      ]
    },
    {
      "cell_type": "markdown",
      "metadata": {
        "id": "rkVbwhMnT-lB"
      },
      "source": [
        "### 3.4 List Comprehensions\n",
        "\n",
        "**List comprehensions** are a concise way to create lists using for loops."
      ]
    },
    {
      "cell_type": "code",
      "execution_count": null,
      "metadata": {
        "id": "Le5YohKmT-lB"
      },
      "outputs": [],
      "source": [
        "# Traditional way to create a list of squares\n",
        "squares = []\n",
        "for number in range(1, 6):\n",
        "    squares.append(number ** 2)\n",
        "print(\"Squares (traditional):\", squares)\n",
        "\n",
        "# List comprehension way\n",
        "squares_comp = [number ** 2 for number in range(1, 6)]\n",
        "print(\"Squares (comprehension):\", squares_comp)\n",
        "\n",
        "# List comprehension with condition\n",
        "numbers = [1, 2, 3, 4, 5, 6, 7, 8, 9, 10]\n",
        "even_squares = [n ** 2 for n in numbers if n % 2 == 0]\n",
        "print(\"Even number squares:\", even_squares)\n",
        "\n",
        "# String processing with list comprehension\n",
        "words = [\"hello\", \"world\", \"python\", \"programming\"]\n",
        "uppercase_words = [word.upper() for word in words]\n",
        "print(\"Uppercase words:\", uppercase_words)\n",
        "\n",
        "# More complex example\n",
        "sentence = \"The quick brown fox jumps\"\n",
        "word_lengths = [len(word) for word in sentence.split()]\n",
        "print(f\"Word lengths in '{sentence}': {word_lengths}\")"
      ]
    },
    {
      "cell_type": "markdown",
      "metadata": {
        "id": "fZL-h1cCT-lB"
      },
      "source": [
        "## 4. Functions - Creating Reusable Code\n",
        "\n",
        "**What are Functions?**\n",
        "- Functions are reusable blocks of code that perform specific tasks\n",
        "- They help organize code and avoid repetition\n",
        "- Functions can take inputs (parameters) and return outputs\n",
        "- They make code more modular and easier to maintain"
      ]
    },
    {
      "cell_type": "markdown",
      "metadata": {
        "id": "B6UqR4u3T-lB"
      },
      "source": [
        "### 4.1 Basic Function Structure\n",
        "\n",
        "```python\n",
        "def function_name(parameters):\n",
        "    \"\"\"\n",
        "    Optional docstring to describe the function\n",
        "    \"\"\"\n",
        "    # Function body\n",
        "    return value  # Optional\n",
        "```"
      ]
    },
    {
      "cell_type": "code",
      "execution_count": null,
      "metadata": {
        "id": "fBx5-q_qT-lB"
      },
      "outputs": [],
      "source": [
        "# Simple function without parameters\n",
        "def greet():\n",
        "    \"\"\"Prints a greeting message\"\"\"\n",
        "    print(\"Hello, World!\")\n",
        "\n",
        "# Call the function\n",
        "greet()\n",
        "\n",
        "# Function with parameters\n",
        "def greet_person(name):\n",
        "    \"\"\"Greets a specific person\"\"\"\n",
        "    print(f\"Hello, {name}!\")\n",
        "\n",
        "greet_person(\"Alice\")\n",
        "greet_person(\"Bob\")\n",
        "\n",
        "# Function with multiple parameters\n",
        "def introduce(name, age, city):\n",
        "    \"\"\"Introduces a person with their details\"\"\"\n",
        "    print(f\"Hi, I'm {name}. I'm {age} years old and I live in {city}.\")\n",
        "\n",
        "introduce(\"Charlie\", 25, \"New York\")\n",
        "introduce(\"Diana\", 30, \"London\")"
      ]
    },
    {
      "cell_type": "markdown",
      "metadata": {
        "id": "xb1dpl3ST-lB"
      },
      "source": [
        "### 4.2 Functions with Return Values\n",
        "\n",
        "Functions can return values using the `return` statement. This allows you to use the result of a function in other parts of your code."
      ]
    },
    {
      "cell_type": "code",
      "execution_count": null,
      "metadata": {
        "id": "qQsXyRNCT-lB"
      },
      "outputs": [],
      "source": [
        "# Function that returns a value\n",
        "def add_numbers(a, b):\n",
        "    \"\"\"Adds two numbers and returns the result\"\"\"\n",
        "    result = a + b\n",
        "    return result\n",
        "\n",
        "# Using the return value\n",
        "sum_result = add_numbers(5, 3)\n",
        "print(f\"5 + 3 = {sum_result}\")\n",
        "\n",
        "# More complex function\n",
        "def calculate_area(length, width):\n",
        "    \"\"\"Calculates the area of a rectangle\"\"\"\n",
        "    area = length * width\n",
        "    return area\n",
        "\n",
        "room_area = calculate_area(10, 12)\n",
        "print(f\"Room area: {room_area} square meters\")\n",
        "\n",
        "# Function that returns multiple values\n",
        "def get_name_parts(full_name):\n",
        "    \"\"\"Splits a full name into first and last name\"\"\"\n",
        "    parts = full_name.split()\n",
        "    first_name = parts[0]\n",
        "    last_name = parts[-1] if len(parts) > 1 else \"\"\n",
        "    return first_name, last_name\n",
        "\n",
        "first, last = get_name_parts(\"John Doe\")\n",
        "print(f\"First name: {first}, Last name: {last}\")"
      ]
    },
    {
      "cell_type": "markdown",
      "metadata": {
        "id": "RCKO4eeOT-lB"
      },
      "source": [
        "### 4.3 Default Parameters and Keyword Arguments\n",
        "\n",
        "Functions can have default values for parameters, making them optional when calling the function."
      ]
    },
    {
      "cell_type": "code",
      "execution_count": null,
      "metadata": {
        "id": "OxyysGTST-lB"
      },
      "outputs": [],
      "source": [
        "# Function with default parameters\n",
        "def greet_with_title(name, title=\"Mr./Ms.\"):\n",
        "    \"\"\"Greets someone with an optional title\"\"\"\n",
        "    return f\"Hello, {title} {name}!\"\n",
        "\n",
        "# Using default parameter\n",
        "print(greet_with_title(\"Smith\"))\n",
        "\n",
        "# Overriding default parameter\n",
        "print(greet_with_title(\"Johnson\", \"Dr.\"))\n",
        "\n",
        "# Function with multiple default parameters\n",
        "def create_profile(name, age=25, city=\"Unknown\", occupation=\"Student\"):\n",
        "    \"\"\"Creates a user profile with optional information\"\"\"\n",
        "    profile = {\n",
        "        \"name\": name,\n",
        "        \"age\": age,\n",
        "        \"city\": city,\n",
        "        \"occupation\": occupation\n",
        "    }\n",
        "    return profile\n",
        "\n",
        "# Different ways to call the function\n",
        "profile1 = create_profile(\"Alice\")\n",
        "profile2 = create_profile(\"Bob\", 30)\n",
        "profile3 = create_profile(\"Charlie\", city=\"Paris\")\n",
        "profile4 = create_profile(\"Diana\", age=28, occupation=\"Engineer\", city=\"Tokyo\")\n",
        "\n",
        "print(\"Profile 1:\", profile1)\n",
        "print(\"Profile 2:\", profile2)\n",
        "print(\"Profile 3:\", profile3)\n",
        "print(\"Profile 4:\", profile4)"
      ]
    },
    {
      "cell_type": "markdown",
      "metadata": {
        "id": "ruvh4iioT-lC"
      },
      "source": [
        "### 4.4 Functions with Lists and Dictionaries\n",
        "\n",
        "Functions become very powerful when working with data structures like lists and dictionaries."
      ]
    },
    {
      "cell_type": "code",
      "execution_count": null,
      "metadata": {
        "id": "iktl9DZuT-lC"
      },
      "outputs": [],
      "source": [
        "# Function that processes a list\n",
        "def calculate_average(numbers):\n",
        "    \"\"\"Calculates the average of a list of numbers\"\"\"\n",
        "    if not numbers:  # Check if list is empty\n",
        "        return 0\n",
        "\n",
        "    total = sum(numbers)\n",
        "    average = total / len(numbers)\n",
        "    return average\n",
        "\n",
        "grades = [85, 92, 78, 96, 88]\n",
        "avg_grade = calculate_average(grades)\n",
        "print(f\"Average grade: {avg_grade:.1f}\")\n",
        "\n",
        "# Function that filters a list\n",
        "def get_passing_grades(grades, passing_score=70):\n",
        "    \"\"\"Returns only grades that are above the passing score\"\"\"\n",
        "    passing = []\n",
        "    for grade in grades:\n",
        "        if grade >= passing_score:\n",
        "            passing.append(grade)\n",
        "    return passing\n",
        "\n",
        "all_grades = [65, 85, 45, 92, 78, 96, 58, 88]\n",
        "passing = get_passing_grades(all_grades)\n",
        "print(f\"All grades: {all_grades}\")\n",
        "print(f\"Passing grades: {passing}\")\n",
        "\n",
        "# Function that works with dictionaries\n",
        "def analyze_student_data(students):\n",
        "    \"\"\"Analyzes a dictionary of student data\"\"\"\n",
        "    total_students = len(students)\n",
        "    total_age = sum(student[\"age\"] for student in students.values())\n",
        "    average_age = total_age / total_students if total_students > 0 else 0\n",
        "\n",
        "    subjects = set()\n",
        "    for student in students.values():\n",
        "        subjects.update(student.get(\"subjects\", []))\n",
        "\n",
        "    return {\n",
        "        \"total_students\": total_students,\n",
        "        \"average_age\": round(average_age, 1),\n",
        "        \"unique_subjects\": list(subjects)\n",
        "    }\n",
        "\n",
        "students_data = {\n",
        "    \"alice\": {\"age\": 20, \"subjects\": [\"Math\", \"Physics\"]},\n",
        "    \"bob\": {\"age\": 22, \"subjects\": [\"Chemistry\", \"Biology\"]},\n",
        "    \"charlie\": {\"age\": 19, \"subjects\": [\"Math\", \"Chemistry\"]}\n",
        "}\n",
        "\n",
        "analysis = analyze_student_data(students_data)\n",
        "print(\"\\nStudent Analysis:\", analysis)"
      ]
    },
    {
      "cell_type": "markdown",
      "metadata": {
        "id": "61iy0bF4T-lC"
      },
      "source": [
        "### 4.5 Lambda Functions (Anonymous Functions)\n",
        "\n",
        "**Lambda functions** are small, anonymous functions that can be defined inline. They're useful for simple operations."
      ]
    },
    {
      "cell_type": "code",
      "execution_count": null,
      "metadata": {
        "id": "32zg0fq9T-lC"
      },
      "outputs": [],
      "source": [
        "# Regular function vs Lambda function\n",
        "def square(x):\n",
        "    return x ** 2\n",
        "\n",
        "square_lambda = lambda x: x ** 2\n",
        "\n",
        "print(f\"Regular function: {square(5)}\")\n",
        "print(f\"Lambda function: {square_lambda(5)}\")\n",
        "\n",
        "# Lambda functions with built-in functions\n",
        "numbers = [1, 2, 3, 4, 5]\n",
        "\n",
        "# Using map() with lambda\n",
        "squared = list(map(lambda x: x ** 2, numbers))\n",
        "print(f\"Squared numbers: {squared}\")\n",
        "\n",
        "# Using filter() with lambda\n",
        "evens = list(filter(lambda x: x % 2 == 0, numbers))\n",
        "print(f\"Even numbers: {evens}\")\n",
        "\n",
        "# Sorting with lambda\n",
        "students = [\n",
        "    {\"name\": \"Alice\", \"grade\": 85},\n",
        "    {\"name\": \"Bob\", \"grade\": 92},\n",
        "    {\"name\": \"Charlie\", \"grade\": 78}\n",
        "]\n",
        "\n",
        "# Sort by grade\n",
        "sorted_by_grade = sorted(students, key=lambda student: student[\"grade\"])\n",
        "print(\"\\nStudents sorted by grade:\")\n",
        "for student in sorted_by_grade:\n",
        "    print(f\"- {student['name']}: {student['grade']}\")"
      ]
    },
    {
      "cell_type": "markdown",
      "metadata": {
        "id": "NYwOjIT6T-lG"
      },
      "source": [
        "## 5. Putting It All Together - Practical Examples\n",
        "\n",
        "Let's combine everything we've learned with some practical examples."
      ]
    },
    {
      "cell_type": "code",
      "execution_count": null,
      "metadata": {
        "id": "qdTnECkKT-lG"
      },
      "outputs": [],
      "source": [
        "# Example 1: Student Grade Management System\n",
        "def grade_calculator(students_data):\n",
        "    \"\"\"Calculates grades and statistics for students\"\"\"\n",
        "    results = []\n",
        "\n",
        "    for student_name, scores in students_data.items():\n",
        "        # Calculate average\n",
        "        average = sum(scores) / len(scores)\n",
        "\n",
        "        # Determine letter grade\n",
        "        if average >= 90:\n",
        "            letter_grade = \"A\"\n",
        "        elif average >= 80:\n",
        "            letter_grade = \"B\"\n",
        "        elif average >= 70:\n",
        "            letter_grade = \"C\"\n",
        "        elif average >= 60:\n",
        "            letter_grade = \"D\"\n",
        "        else:\n",
        "            letter_grade = \"F\"\n",
        "\n",
        "        # Determine status\n",
        "        status = \"Pass\" if average >= 70 else \"Fail\"\n",
        "\n",
        "        results.append({\n",
        "            \"name\": student_name,\n",
        "            \"scores\": scores,\n",
        "            \"average\": round(average, 1),\n",
        "            \"letter_grade\": letter_grade,\n",
        "            \"status\": status\n",
        "        })\n",
        "\n",
        "    return results\n",
        "\n",
        "# Test data\n",
        "class_scores = {\n",
        "    \"Alice\": [95, 87, 92, 88],\n",
        "    \"Bob\": [78, 85, 82, 79],\n",
        "    \"Charlie\": [92, 95, 89, 93],\n",
        "    \"Diana\": [65, 70, 68, 72]\n",
        "}\n",
        "\n",
        "# Process the data\n",
        "grade_results = grade_calculator(class_scores)\n",
        "\n",
        "# Display results\n",
        "print(\"STUDENT GRADE REPORT\")\n",
        "print(\"=\" * 50)\n",
        "for result in grade_results:\n",
        "    print(f\"Student: {result['name']}\")\n",
        "    print(f\"Scores: {result['scores']}\")\n",
        "    print(f\"Average: {result['average']} ({result['letter_grade']})\")\n",
        "    print(f\"Status: {result['status']}\")\n",
        "    print(\"-\" * 30)\n",
        "\n",
        "# Calculate class statistics\n",
        "all_averages = [result['average'] for result in grade_results]\n",
        "class_average = sum(all_averages) / len(all_averages)\n",
        "passing_students = [r for r in grade_results if r['status'] == 'Pass']\n",
        "\n",
        "print(f\"\\nCLASS STATISTICS:\")\n",
        "print(f\"Class Average: {class_average:.1f}\")\n",
        "print(f\"Passing Students: {len(passing_students)}/{len(grade_results)}\")\n",
        "print(f\"Pass Rate: {len(passing_students)/len(grade_results)*100:.1f}%\")"
      ]
    },
    {
      "cell_type": "code",
      "execution_count": null,
      "metadata": {
        "id": "17jIa_WqT-lG"
      },
      "outputs": [],
      "source": [
        "# Example 2: Word Analysis Tool\n",
        "def analyze_text(text):\n",
        "    \"\"\"Analyzes text and returns various statistics\"\"\"\n",
        "    # Basic counts\n",
        "    words = text.lower().split()\n",
        "    word_count = len(words)\n",
        "    char_count = len(text)\n",
        "    char_count_no_spaces = len(text.replace(\" \", \"\"))\n",
        "\n",
        "    # Word frequency\n",
        "    word_freq = {}\n",
        "    for word in words:\n",
        "        # Remove punctuation\n",
        "        clean_word = word.strip(\".,!?;:\")\n",
        "        if clean_word in word_freq:\n",
        "            word_freq[clean_word] += 1\n",
        "        else:\n",
        "            word_freq[clean_word] = 1\n",
        "\n",
        "    # Find most common words\n",
        "    sorted_words = sorted(word_freq.items(), key=lambda x: x[1], reverse=True)\n",
        "\n",
        "    # Word lengths\n",
        "    word_lengths = [len(word.strip(\".,!?;:\")) for word in words]\n",
        "    avg_word_length = sum(word_lengths) / len(word_lengths) if word_lengths else 0\n",
        "\n",
        "    return {\n",
        "        \"word_count\": word_count,\n",
        "        \"character_count\": char_count,\n",
        "        \"character_count_no_spaces\": char_count_no_spaces,\n",
        "        \"unique_words\": len(word_freq),\n",
        "        \"average_word_length\": round(avg_word_length, 1),\n",
        "        \"most_common_words\": sorted_words[:5],\n",
        "        \"word_frequency\": word_freq\n",
        "    }\n",
        "\n",
        "# Test the function\n",
        "sample_text = \"\"\"\n",
        "Python is a powerful programming language. Python is easy to learn and Python is versatile.\n",
        "Many developers love Python because Python makes programming fun. Python is used in web development,\n",
        "data science, artificial intelligence, and more. Learning Python opens many opportunities.\n",
        "\"\"\"\n",
        "\n",
        "analysis = analyze_text(sample_text)\n",
        "\n",
        "print(\"TEXT ANALYSIS RESULTS\")\n",
        "print(\"=\" * 40)\n",
        "print(f\"Word Count: {analysis['word_count']}\")\n",
        "print(f\"Character Count: {analysis['character_count']}\")\n",
        "print(f\"Character Count (no spaces): {analysis['character_count_no_spaces']}\")\n",
        "print(f\"Unique Words: {analysis['unique_words']}\")\n",
        "print(f\"Average Word Length: {analysis['average_word_length']} characters\")\n",
        "\n",
        "print(\"\\nMost Common Words:\")\n",
        "for word, count in analysis['most_common_words']:\n",
        "    print(f\"  {word}: {count} times\")\n",
        "\n",
        "# Find words that appear more than once\n",
        "repeated_words = {word: count for word, count in analysis['word_frequency'].items() if count > 1}\n",
        "print(f\"\\nWords appearing more than once: {len(repeated_words)}\")\n",
        "for word, count in sorted(repeated_words.items(), key=lambda x: x[1], reverse=True):\n",
        "    print(f\"  {word}: {count} times\")"
      ]
    },
    {
      "cell_type": "markdown",
      "metadata": {
        "id": "Te1UwQJ_T-lG"
      },
      "source": [
        "## Summary and Key Takeaways\n",
        "\n",
        "### What We've Learned:\n",
        "\n",
        "1. **Data Structures**:\n",
        "   - **Lists**: Ordered, mutable collections `[1, 2, 3]`\n",
        "   - **Dictionaries**: Key-value pairs `{\"name\": \"Alice\"}`\n",
        "   - **Tuples**: Ordered, immutable collections `(1, 2, 3)`\n",
        "   - **Sets**: Unordered, unique collections `{1, 2, 3}`\n",
        "\n",
        "2. **If Statements**:\n",
        "   - Make decisions in code using conditions\n",
        "   - Use comparison operators (`==`, `!=`, `>`, `<`, etc.)\n",
        "   - Combine conditions with logical operators (`and`, `or`, `not`)\n",
        "   - Structure: `if`, `elif`, `else`\n",
        "\n",
        "3. **For Loops**:\n",
        "   - Iterate through sequences (lists, strings, ranges)\n",
        "   - Use `enumerate()` for index and item\n",
        "   - Use `zip()` to combine sequences\n",
        "   - List comprehensions for concise list creation\n",
        "\n",
        "4. **Functions**:\n",
        "   - Create reusable blocks of code\n",
        "   - Accept parameters and return values\n",
        "   - Use default parameters for flexibility\n",
        "   - Lambda functions for simple operations\n",
        "\n",
        "### Best Practices:\n",
        "- Use descriptive variable and function names\n",
        "- Add docstrings to explain what functions do\n",
        "- Keep functions focused on a single task\n",
        "- Use appropriate data structures for your needs\n",
        "- Comment your code to explain complex logic\n",
        "\n",
        "### Next Steps:\n",
        "- Practice with more complex problems\n",
        "- Learn about classes and object-oriented programming\n",
        "- Explore Python libraries like NumPy, Pandas, and Matplotlib\n",
        "- Work on real projects to apply these concepts\n",
        "\n",
        "Remember: Programming is like learning a language - the more you practice, the more fluent you become!"
      ]
    }
  ],
  "metadata": {
    "kernelspec": {
      "display_name": "Python 3",
      "language": "python",
      "name": "python3"
    },
    "language_info": {
      "codemirror_mode": {
        "name": "ipython",
        "version": 3
      },
      "file_extension": ".py",
      "mimetype": "text/x-python",
      "name": "python",
      "nbconvert_exporter": "python",
      "pygments_lexer": "ipython3",
      "version": "3.8.5"
    },
    "colab": {
      "provenance": [],
      "include_colab_link": true
    }
  },
  "nbformat": 4,
  "nbformat_minor": 0
}